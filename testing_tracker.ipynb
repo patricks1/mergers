{
 "cells": [
  {
   "cell_type": "code",
   "execution_count": null,
   "metadata": {},
   "outputs": [],
   "source": [
    "import matplotlib as mpl\n",
    "mpl.use('Agg')\n",
    "\n",
    "from matplotlib import rcParams\n",
    "rcParams['font.family']='serif'\n",
    "rcParams['mathtext.fontset'] = 'dejavuserif'\n",
    "\n",
    "import matplotlib.pyplot as plt\n",
    "\n",
    "import massmapper as mm\n",
    "import numpy as np\n",
    "import random\n",
    "import h5py\n",
    "\n",
    "%matplotlib inline"
   ]
  },
  {
   "cell_type": "code",
   "execution_count": null,
   "metadata": {},
   "outputs": [],
   "source": [
    "masswidth=0.5\n",
    "catalog_kind='subhalo'\n",
    "dat12=mm.Mergerdata(12.,0.5,catalog_kind=catalog_kind)\n",
    "dat12.tracker()"
   ]
  },
  {
   "cell_type": "code",
   "execution_count": null,
   "metadata": {},
   "outputs": [],
   "source": [
    "def N_gmratio(fname):\n",
    "    f=h5py.file(fname,'r')\n",
    "    m_m0s=np.array(f['m_m0s'])\n",
    "    N_fc=f['n_fc'].value\n",
    "    \n",
    "    Nbins=50\n",
    "    lowerbound=min(m_m0s)\n",
    "    upperbound=max(m_m0s)\n",
    "    #print lowerbound\n",
    "    #print upperbound\n",
    "    bins=np.logspace(np.log10(lowerbound),np.log10(upperbound),Nbins)\n",
    "    midbins=(bins[:-1]+bins[1:])/2\n",
    "    \n",
    "    fig=plt.figure(figsize=(8,6))\n",
    "    ax=fig.add_subplot(1,1,1)\n",
    "    N_gmratio=ax.hist(m_m0s,\n",
    "              weights=np.repeat(1./N_fc,\n",
    "                                len(m_m0s)),\n",
    "              bins=bins,cumulative=-1)[0]\n",
    "    ax.set_yscale('log')\n",
    "    #ax.set_xscale('log')\n",
    "    plt.clf()\n",
    "    \n",
    "    return N_gmratio,midbins"
   ]
  },
  {
   "cell_type": "code",
   "execution_count": null,
   "metadata": {},
   "outputs": [],
   "source": [
    "timestmp=20181026\n",
    "fname='$home/dat/true_m_12_{}_subhalo.h5'.format(timestmp)\n",
    "N_gmratio(fname)"
   ]
  }
 ],
 "metadata": {
  "kernelspec": {
   "display_name": "Python 2",
   "language": "python",
   "name": "python2"
  },
  "language_info": {
   "codemirror_mode": {
    "name": "ipython",
    "version": 2
   },
   "file_extension": ".py",
   "mimetype": "text/x-python",
   "name": "python",
   "nbconvert_exporter": "python",
   "pygments_lexer": "ipython2",
   "version": "2.7.12"
  }
 },
 "nbformat": 4,
 "nbformat_minor": 2
}

{
 "cells": [
  {
   "cell_type": "code",
   "execution_count": 1,
   "metadata": {},
   "outputs": [],
   "source": [
    "import numpy as np\n",
    "import merg_rates\n",
    "from wetzel_utils.utility.utility_catalog import indices_tree"
   ]
  },
  {
   "cell_type": "code",
   "execution_count": 24,
   "metadata": {},
   "outputs": [],
   "source": [
    "import matplotlib as mpl \n",
    "mpl.use('Agg')\n",
    "import matplotlib.pyplot as plt \n",
    "from matplotlib import rcParams\n",
    "%matplotlib inline\n",
    "\n",
    "rcParams['mathtext.fontset'] = 'dejavuserif'\n",
    "rcParams['font.family'] = 'serif' \n",
    "rcParams['xtick.labelsize'] = 16\n",
    "rcParams['ytick.labelsize'] = 16\n",
    "rcParams['axes.grid']=True\n",
    "rcParams['axes.titlesize']=24\n",
    "rcParams['axes.labelsize']=20\n",
    "rcParams['axes.titlepad']=15\n",
    "rcParams['legend.frameon'] = True\n",
    "rcParams['legend.facecolor']='white'\n",
    "rcParams['legend.fontsize']=18"
   ]
  },
  {
   "cell_type": "markdown",
   "metadata": {},
   "source": [
    "# $\\S$ 1"
   ]
  },
  {
   "cell_type": "code",
   "execution_count": 2,
   "metadata": {
    "scrolled": false
   },
   "outputs": [
    {
     "name": "stdout",
     "output_type": "stream",
     "text": [
      "# in merg_rates.shamedTreepm():\n",
      "  read /data1/arwetzel/lcdm250/snapshot.txt\n",
      "  read  3914367 halo from halo_tree_00.dat\n",
      "  read  3939586 halo from halo_tree_01.dat\n",
      "  read  3964156 halo from halo_tree_02.dat\n",
      "  read  3991148 halo from halo_tree_03.dat\n",
      "  read  4017802 halo from halo_tree_04.dat\n",
      "  read  4043082 halo from halo_tree_05.dat\n",
      "  read  4068695 halo from halo_tree_06.dat\n",
      "  read  4091273 halo from halo_tree_07.dat\n",
      "  read  4114245 halo from halo_tree_08.dat\n",
      "  read  4134906 halo from halo_tree_09.dat\n",
      "  read  4156401 halo from halo_tree_10.dat\n",
      "  read  4175240 halo from halo_tree_11.dat\n",
      "  read  4191460 halo from halo_tree_12.dat\n",
      "  read  4201253 halo from halo_tree_13.dat\n",
      "  read  4207986 halo from halo_tree_14.dat\n",
      "  read  4208029 halo from halo_tree_15.dat\n",
      "  read  4202839 halo from halo_tree_16.dat\n",
      "  read  4189843 halo from halo_tree_17.dat\n",
      "  read  4168435 halo from halo_tree_18.dat\n",
      "  read  4135114 halo from halo_tree_19.dat\n",
      "  read  4092177 halo from halo_tree_20.dat\n",
      "  read  4036281 halo from halo_tree_21.dat\n",
      "  read  3969364 halo from halo_tree_22.dat\n",
      "  read  3886757 halo from halo_tree_23.dat\n",
      "  read  3790788 halo from halo_tree_24.dat\n",
      "  read  3677305 halo from halo_tree_25.dat\n",
      "  read  3545863 halo from halo_tree_26.dat\n",
      "  read  3398624 halo from halo_tree_27.dat\n",
      "  read  3232419 halo from halo_tree_28.dat\n",
      "  read  3053114 halo from halo_tree_29.dat\n",
      "  read  2858599 halo from halo_tree_30.dat\n",
      "  read  2648596 halo from halo_tree_31.dat\n",
      "  read  2425708 halo from halo_tree_32.dat\n",
      "  read  2193677 halo from halo_tree_33.dat\n",
      "  read  1956524 halo from halo_tree_34.dat\n",
      "1956524 halos in snapshot 34\n",
      "112654 merge with larger halos\n",
      "2193677 halos in snapshot 33\n",
      "129517 merge with larger halos\n",
      "2425708 halos in snapshot 32\n",
      "145373 merge with larger halos\n",
      "2648596 halos in snapshot 31\n",
      "160448 merge with larger halos\n",
      "2858599 halos in snapshot 30\n",
      "176931 merge with larger halos\n",
      "3053114 halos in snapshot 29\n",
      "190531 merge with larger halos\n",
      "3232419 halos in snapshot 28\n",
      "205766 merge with larger halos\n",
      "3398624 halos in snapshot 27\n",
      "217199 merge with larger halos\n",
      "3545863 halos in snapshot 26\n",
      "228278 merge with larger halos\n",
      "3677305 halos in snapshot 25\n",
      "240581 merge with larger halos\n",
      "3790788 halos in snapshot 24\n",
      "250440 merge with larger halos\n",
      "3886757 halos in snapshot 23\n",
      "257801 merge with larger halos\n",
      "3969364 halos in snapshot 22\n",
      "263542 merge with larger halos\n",
      "4036281 halos in snapshot 21\n",
      "271384 merge with larger halos\n",
      "4092177 halos in snapshot 20\n",
      "276021 merge with larger halos\n",
      "4135114 halos in snapshot 19\n",
      "280332 merge with larger halos\n",
      "4168435 halos in snapshot 18\n",
      "284431 merge with larger halos\n",
      "4189843 halos in snapshot 17\n",
      "286240 merge with larger halos\n",
      "4202839 halos in snapshot 16\n",
      "289024 merge with larger halos\n",
      "4208029 halos in snapshot 15\n",
      "287339 merge with larger halos\n",
      "4207986 halos in snapshot 14\n",
      "287936 merge with larger halos\n",
      "4201253 halos in snapshot 13\n",
      "285646 merge with larger halos\n",
      "4191460 halos in snapshot 12\n",
      "285104 merge with larger halos\n",
      "4175240 halos in snapshot 11\n",
      "283147 merge with larger halos\n",
      "4156401 halos in snapshot 10\n",
      "280725 merge with larger halos\n",
      "4134906 halos in snapshot 9\n",
      "275725 merge with larger halos\n",
      "4114245 halos in snapshot 8\n",
      "272885 merge with larger halos\n",
      "4091273 halos in snapshot 7\n",
      "268028 merge with larger halos\n",
      "4068695 halos in snapshot 6\n",
      "263627 merge with larger halos\n",
      "4043082 halos in snapshot 5\n",
      "258134 merge with larger halos\n",
      "4017802 halos in snapshot 4\n",
      "253223 merge with larger halos\n",
      "3991148 halos in snapshot 3\n",
      "246810 merge with larger halos\n",
      "3964156 halos in snapshot 2\n",
      "239668 merge with larger halos\n",
      "3939586 halos in snapshot 1\n",
      "233143 merge with larger halos\n"
     ]
    }
   ],
   "source": [
    "#reload(merg_rates)\n",
    "tpm=merg_rates.shamedTreepmClass(0.2,seed=1,catkind='host')\n",
    "tpm.merg_tree(0,34,typ='host')"
   ]
  },
  {
   "cell_type": "code",
   "execution_count": 21,
   "metadata": {},
   "outputs": [],
   "source": [
    "M0=12.\n",
    "Mwid=0.5\n",
    "allM0s=tpm.hostcat[0][tpm.hmtype]\n",
    "inrange=(allM0s<M0+Mwid/2.) & (allM0s>M0-Mwid/2.)\n",
    "hi0s=np.arange(len(allM0s))[inrange]\n",
    "\n",
    "allzis=np.arange(35)\n",
    "mzM0s=[]\n",
    "\n",
    "for hi0 in hi0s:\n",
    "    M0=tpm.hostcat[0][tpm.hmtype][hi0]\n",
    "    for zi in allzis[1:]:\n",
    "        #print'zi: %d'%zi\n",
    "        #print'hi0: %d'%hi0\n",
    "        if hi0 in tpm.hostcat[zi]['merg.branch']:\n",
    "            merg_is=tpm.hostcat[zi]['merg.branch'][hi0]\n",
    "        else:\n",
    "            continue\n",
    "        #print merg_is\n",
    "        ms=tpm.hostcat[zi][tpm.hmtype][merg_is]\n",
    "        mzM0s_add=list(ms-M0)\n",
    "        mzM0s+=mzM0s_add"
   ]
  },
  {
   "cell_type": "code",
   "execution_count": 30,
   "metadata": {},
   "outputs": [
    {
     "data": {
      "image/png": "[encoded data removed]",
      "text/plain": [
       "<Figure size 576x432 with 1 Axes>"
      ]
     },
     "metadata": {},
     "output_type": "display_data"
    }
   ],
   "source": [
    "midbins_s_12,N_gmratio_s_12=np.loadtxt('dat/stewart12m_M0.csv',\n",
    "                                       delimiter=',',\n",
    "                                       unpack=True)\n",
    "midbins_s_13,N_gmratio_s_13=np.loadtxt('dat/stewart13m_M0.csv',\n",
    "                                       delimiter=',',\n",
    "                                       unpack=True)\n",
    "\n",
    "fig=plt.figure(figsize=(8,6))\n",
    "ax=fig.add_subplot(111)\n",
    "ax.hist(mzM0s,bins=50,cumulative=-1,histtype='step',lw=2,\n",
    "        weights=np.repeat(1./float(sum(inrange)),len(mzM0s)))\n",
    "ax.plot(np.log10(midbins_s_12),N_gmratio_s_12,'x',mec='r',mfc='None',\n",
    "          ms=12,mew=2,)\n",
    "ax.set_xlim(-2,0)\n",
    "ax.set_ylim(1e-3,2e1)\n",
    "ax.set_yscale('log')\n",
    "plt.show()"
   ]
  },
  {
   "cell_type": "markdown",
   "metadata": {},
   "source": [
    "# Testing Subhalo and Galaxy Merger Tree"
   ]
  },
  {
   "cell_type": "code",
   "execution_count": 31,
   "metadata": {},
   "outputs": [
    {
     "name": "stdout",
     "output_type": "stream",
     "text": [
      "  read /data1/arwetzel/lcdm250/snapshot.txt\n",
      "  read  5177765 subhalo from subhalo_tree_00.dat\n",
      "  read  5407196 subhalo from subhalo_tree_01.dat\n",
      "  read  5485481 subhalo from subhalo_tree_02.dat\n",
      "  read  5517336 subhalo from subhalo_tree_03.dat\n",
      "  read  5548084 subhalo from subhalo_tree_04.dat\n",
      "  read  5583078 subhalo from subhalo_tree_05.dat\n",
      "  read  5615345 subhalo from subhalo_tree_06.dat\n",
      "  read  5650410 subhalo from subhalo_tree_07.dat\n",
      "  read  5682696 subhalo from subhalo_tree_08.dat\n",
      "  read  5715688 subhalo from subhalo_tree_09.dat\n",
      "  read  5748795 subhalo from subhalo_tree_10.dat\n",
      "  read  5779167 subhalo from subhalo_tree_11.dat\n",
      "  read  5805949 subhalo from subhalo_tree_12.dat\n",
      "  read  5824060 subhalo from subhalo_tree_13.dat\n",
      "  read  5837797 subhalo from subhalo_tree_14.dat\n",
      "  read  5841491 subhalo from subhalo_tree_15.dat\n",
      "  read  5836226 subhalo from subhalo_tree_16.dat\n",
      "  read  5823060 subhalo from subhalo_tree_17.dat\n",
      "  read  5795900 subhalo from subhalo_tree_18.dat\n",
      "  read  5753867 subhalo from subhalo_tree_19.dat\n",
      "  read  5697344 subhalo from subhalo_tree_20.dat\n",
      "  read  5620673 subhalo from subhalo_tree_21.dat\n",
      "  read  5527314 subhalo from subhalo_tree_22.dat\n",
      "  read  5409626 subhalo from subhalo_tree_23.dat\n",
      "  read  5270374 subhalo from subhalo_tree_24.dat\n",
      "  read  5105362 subhalo from subhalo_tree_25.dat\n",
      "  read  4914942 subhalo from subhalo_tree_26.dat\n",
      "  read  4697199 subhalo from subhalo_tree_27.dat\n",
      "  read  4451504 subhalo from subhalo_tree_28.dat\n",
      "  read  4187628 subhalo from subhalo_tree_29.dat\n",
      "  read  3901457 subhalo from subhalo_tree_30.dat\n",
      "  read  3591830 subhalo from subhalo_tree_31.dat\n",
      "  read  3267446 subhalo from subhalo_tree_32.dat\n",
      "  read  2906961 subhalo from subhalo_tree_33.dat\n",
      "  read  2467383 subhalo from subhalo_tree_34.dat\n",
      "Box Length 357.14286322496383\n",
      "Box Hubble 0.7\n"
     ]
    }
   ],
   "source": [
    "tpm.merg_tree(typ='subhal')"
   ]
  },
  {
   "cell_type": "code",
   "execution_count": 56,
   "metadata": {},
   "outputs": [],
   "source": [
    "def Nmu(M0,cat,typ,ziend=34,through=False):\n",
    "    #Plots the cumulative number of mergers per \n",
    "    #halo/galaxy, N(>mu), where mu is m_z/M_z\n",
    "    Mwid=0.5\n",
    "    if typ=='gal':\n",
    "        mtype=tpm.gmtype\n",
    "        brstr='gal.merg.branch'\n",
    "    elif typ=='subhal':\n",
    "        mtype=tpm.smtype\n",
    "        brstr='sub.merg.branch'\n",
    "    elif typ=='host':\n",
    "        mtype=tpm.hmtype\n",
    "        brstr='merg.branch'\n",
    "    allM0s=cat[0][mtype]\n",
    "    inrange=(allM0s<M0+Mwid/2.) & (allM0s>M0-Mwid/2.)\n",
    "    hi0s=np.arange(len(allM0s))[inrange]\n",
    "    \n",
    "    if through:\n",
    "        #take only main progenitors that exist at ziend                        \n",
    "        hiends=indices_tree(cat,0,ziend,hi0s)                                  \n",
    "        goesthrough=hiends>=0                                                  \n",
    "        hi0s=hi0s[goesthrough]\n",
    "        hiends=hiends[goesthrough]\n",
    "        #take only main progenitors whose mass is not nan at\n",
    "        #ziend\n",
    "        msend=cat[ziend][mtype][hiends]\n",
    "        notnan=~np.isnan(msend)\n",
    "        hi0s=hi0s[notnan]\n",
    "        hiends=hiends[notnan]\n",
    "        msend=msend[notnan]\n",
    "        #take only main progenitors that have non-zero mass at\n",
    "        #ziend                                  \n",
    "        pos_msend=msend>0.                                                     \n",
    "        hi0s=hi0s[pos_msend]             \n",
    "    \n",
    "    allzis=np.arange(ziend+1)\n",
    "    mzM0s=[]\n",
    "\n",
    "    for hi0 in hi0s:\n",
    "        M0=cat[0][mtype][hi0]\n",
    "        for zi in allzis[1:]:\n",
    "            if hi0 in cat[zi][brstr]:\n",
    "                merg_is=cat[zi][brstr][hi0]\n",
    "            else:\n",
    "                continue\n",
    "            ms=cat[zi][mtype][merg_is]\n",
    "            mzM0s_add=list(ms-M0)\n",
    "            mzM0s+=mzM0s_add\n",
    "    \n",
    "    fig=plt.figure(figsize=(8,6))\n",
    "    ax=fig.add_subplot(111)\n",
    "    ax.hist(mzM0s,bins=50,cumulative=-1,histtype='step',lw=2,\n",
    "            weights=np.repeat(1./len(hi0s),len(mzM0s)))\n",
    "    ax.plot(np.log10(midbins_s_12),N_gmratio_s_12,'x',mec='r',\n",
    "            mfc='None',\n",
    "              ms=12,mew=2,)\n",
    "    ax.set_xlim(-3,0)\n",
    "    ax.set_ylim(1e-3,2e1)\n",
    "    ax.set_yscale('log')\n",
    "    plt.show()"
   ]
  },
  {
   "cell_type": "code",
   "execution_count": 57,
   "metadata": {},
   "outputs": [
    {
     "data": {
      "image/png": "[encoded data removed]",
      "text/plain": [
       "<Figure size 576x432 with 1 Axes>"
      ]
     },
     "metadata": {},
     "output_type": "display_data"
    }
   ],
   "source": [
    "Nmu(12.,tpm.subcat,'subhal',through=True)"
   ]
  },
  {
   "cell_type": "code",
   "execution_count": 40,
   "metadata": {},
   "outputs": [
    {
     "name": "stdout",
     "output_type": "stream",
     "text": [
      "2906961 galaxies in snapshot 33\n",
      "3267446 galaxies in snapshot 32\n",
      "3591830 galaxies in snapshot 31\n",
      "3901457 galaxies in snapshot 30\n",
      "4187628 galaxies in snapshot 29\n",
      "4451504 galaxies in snapshot 28\n",
      "4697199 galaxies in snapshot 27\n",
      "4914942 galaxies in snapshot 26\n",
      "5105362 galaxies in snapshot 25\n",
      "5270374 galaxies in snapshot 24\n",
      "5409626 galaxies in snapshot 23\n",
      "5527314 galaxies in snapshot 22\n",
      "5620673 galaxies in snapshot 21\n",
      "5697344 galaxies in snapshot 20\n",
      "5753867 galaxies in snapshot 19\n",
      "5795900 galaxies in snapshot 18\n",
      "5823060 galaxies in snapshot 17\n",
      "5836226 galaxies in snapshot 16\n",
      "5841491 galaxies in snapshot 15\n",
      "5837797 galaxies in snapshot 14\n",
      "5824060 galaxies in snapshot 13\n",
      "5805949 galaxies in snapshot 12\n",
      "5779167 galaxies in snapshot 11\n",
      "5748795 galaxies in snapshot 10\n",
      "5715688 galaxies in snapshot 9\n",
      "5682696 galaxies in snapshot 8\n",
      "5650410 galaxies in snapshot 7\n",
      "5615345 galaxies in snapshot 6\n",
      "5583078 galaxies in snapshot 5\n",
      "5548084 galaxies in snapshot 4\n",
      "5517336 galaxies in snapshot 3\n",
      "5485481 galaxies in snapshot 2\n",
      "5407196 galaxies in snapshot 1\n"
     ]
    },
    {
     "data": {
      "image/png": "[encoded data removed]",
      "text/plain": [
       "<Figure size 576x432 with 1 Axes>"
      ]
     },
     "metadata": {},
     "output_type": "display_data"
    }
   ],
   "source": [
    "tpm.merg_tree(typ='gal',ziend=33)"
   ]
  },
  {
   "cell_type": "code",
   "execution_count": 58,
   "metadata": {},
   "outputs": [
    {
     "data": {
      "image/png": "[encoded data removed]",
      "text/plain": [
       "<Figure size 576x432 with 1 Axes>"
      ]
     },
     "metadata": {},
     "output_type": "display_data"
    }
   ],
   "source": [
    "Nmu(10.5,tpm.subcat,'gal',ziend=33,through=False)"
   ]
  },
  {
   "cell_type": "code",
   "execution_count": 59,
   "metadata": {},
   "outputs": [
    {
     "data": {
      "image/png": "[encoded data removed]",
      "text/plain": [
       "<Figure size 576x432 with 1 Axes>"
      ]
     },
     "metadata": {},
     "output_type": "display_data"
    }
   ],
   "source": [
    "Nmu(10.5,tpm.subcat,'gal',ziend=33,through=True)"
   ]
  },
  {
   "cell_type": "markdown",
   "metadata": {},
   "source": [
    "# Testing python functionality"
   ]
  },
  {
   "cell_type": "code",
   "execution_count": null,
   "metadata": {},
   "outputs": [],
   "source": [
    "zis=np.arange(35)\n",
    "zis_use=zis[:0:-1]\n",
    "print zis_use"
   ]
  },
  {
   "cell_type": "code",
   "execution_count": null,
   "metadata": {},
   "outputs": [],
   "source": [
    "i0s=np.arange(len(tpm.subcat[0][tpm.gmtype]))\n",
    "paris1=indices_tree(tpm.subcat,0,34)\n",
    "paris2=indices_tree(tpm.subcat,0,34,i0s)\n",
    "np.array_equal(paris1,paris2)"
   ]
  },
  {
   "cell_type": "code",
   "execution_count": null,
   "metadata": {},
   "outputs": [],
   "source": [
    "parbranch={}\n",
    "for i0,pari1 in zip(i0s,paris1):\n",
    "    parbranch[i0]=pari1\n",
    "parbranch_prox=parbranch\n",
    "parbranch_prox[0]='foo'\n",
    "parbranch"
   ]
  }
 ],
 "metadata": {
  "kernelspec": {
   "display_name": "Python 2",
   "language": "python",
   "name": "python2"
  },
  "language_info": {
   "codemirror_mode": {
    "name": "ipython",
    "version": 2
   },
   "file_extension": ".py",
   "mimetype": "text/x-python",
   "name": "python",
   "nbconvert_exporter": "python",
   "pygments_lexer": "ipython2",
   "version": "2.7.12"
  }
 },
 "nbformat": 4,
 "nbformat_minor": 2
}

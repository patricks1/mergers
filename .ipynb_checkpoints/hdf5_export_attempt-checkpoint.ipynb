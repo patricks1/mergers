{
 "cells": [
  {
   "cell_type": "code",
   "execution_count": 18,
   "metadata": {},
   "outputs": [],
   "source": [
    "import h5py\n",
    "import numpy as np"
   ]
  },
  {
   "cell_type": "code",
   "execution_count": null,
   "metadata": {},
   "outputs": [],
   "source": [
    "f=f=h5py.File('/data1/staudt/mergers/allmassmap.hdf5','r')"
   ]
  },
  {
   "cell_type": "code",
   "execution_count": null,
   "metadata": {
    "scrolled": true
   },
   "outputs": [],
   "source": [
    "print'keys in the hdf5 file:'\n",
    "for key in f.keys():\n",
    "    print key\n",
    "group = f['data']\n",
    "print'\\nkeys in \"data\" group:'\n",
    "for key in group.keys():\n",
    "    print key\n",
    "\n",
    "print'\\ngroup.keys()[0]:'\n",
    "print group.keys()[0]\n",
    "print type(group.keys()[0])\n",
    "\n",
    "print'\\ngroup[0].value:'\n",
    "print group[u'0'].value\n",
    "\n",
    "'''\n",
    "print'\\ngroup[group.keys()[0]].value:'\n",
    "print group[group.keys()[0]].value\n",
    "'''\n",
    "\n",
    "'''\n",
    "numberofrows=group[]\n",
    "allmassmapper=np.zeros()\n",
    "    for snapshot in np.arange(35):\n",
    "    allmassmapper[:,snapshot]=group[]\n",
    "    \n",
    "    data=group[group.keys()[0]].value\n",
    "print data\n",
    "'''\n",
    "\n",
    "end=1"
   ]
  },
  {
   "cell_type": "code",
   "execution_count": 34,
   "metadata": {},
   "outputs": [],
   "source": [
    "f.close()"
   ]
  },
  {
   "cell_type": "code",
   "execution_count": 9,
   "metadata": {},
   "outputs": [
    {
     "name": "stdout",
     "output_type": "stream",
     "text": [
      "[u'0', u'1', u'10', u'11', u'12', u'13', u'14', u'15', u'16', u'17', u'18', u'19', u'2', u'20', u'21', u'22', u'23', u'24', u'25', u'26', u'27', u'28', u'29', u'3', u'30', u'31', u'32', u'33', u'34', u'4', u'5', u'6', u'7', u'8', u'9']\n"
     ]
    }
   ],
   "source": [
    "print massmapdata"
   ]
  }
 ],
 "metadata": {
  "kernelspec": {
   "display_name": "Python 2",
   "language": "python",
   "name": "python2"
  },
  "language_info": {
   "codemirror_mode": {
    "name": "ipython",
    "version": 2
   },
   "file_extension": ".py",
   "mimetype": "text/x-python",
   "name": "python",
   "nbconvert_exporter": "python",
   "pygments_lexer": "ipython2",
   "version": "2.7.5"
  }
 },
 "nbformat": 4,
 "nbformat_minor": 2
}

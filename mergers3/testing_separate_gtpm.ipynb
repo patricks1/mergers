{
 "cells": [
  {
   "cell_type": "code",
   "execution_count": 1,
   "metadata": {},
   "outputs": [],
   "source": [
    "import merg_rates3 as mr"
   ]
  },
  {
   "cell_type": "code",
   "execution_count": 8,
   "metadata": {},
   "outputs": [
    {
     "name": "stdout",
     "output_type": "stream",
     "text": [
      "It worked\n"
     ]
    },
    {
     "data": {
      "text/plain": [
       "<module 'merg_rates3' from '/home/users/staudt/projects/mergers/mergers3/merg_rates3.py'>"
      ]
     },
     "execution_count": 8,
     "metadata": {},
     "output_type": "execute_result"
    }
   ],
   "source": [
    "import importlib\n",
    "importlib.reload(mr)"
   ]
  },
  {
   "cell_type": "code",
   "execution_count": 3,
   "metadata": {},
   "outputs": [
    {
     "name": "stdout",
     "output_type": "stream",
     "text": [
      "# in merg_rates3.HalTreepm():\n",
      "  read /data1/arwetzel/lcdm250/snapshot.txt\n",
      "  read  5177765 subhalo from subhalo_tree_00.dat\n",
      "  read  5407196 subhalo from subhalo_tree_01.dat\n",
      "  read  5485481 subhalo from subhalo_tree_02.dat\n",
      "  read  5517336 subhalo from subhalo_tree_03.dat\n",
      "  read  5548084 subhalo from subhalo_tree_04.dat\n",
      "  read  5583078 subhalo from subhalo_tree_05.dat\n",
      "  read  5615345 subhalo from subhalo_tree_06.dat\n",
      "  read  5650410 subhalo from subhalo_tree_07.dat\n",
      "  read  5682696 subhalo from subhalo_tree_08.dat\n",
      "  read  5715688 subhalo from subhalo_tree_09.dat\n",
      "  read  5748795 subhalo from subhalo_tree_10.dat\n",
      "  read  5779167 subhalo from subhalo_tree_11.dat\n",
      "  read  5805949 subhalo from subhalo_tree_12.dat\n",
      "  read  5824060 subhalo from subhalo_tree_13.dat\n",
      "  read  5837797 subhalo from subhalo_tree_14.dat\n",
      "  read  5841491 subhalo from subhalo_tree_15.dat\n",
      "  read  5836226 subhalo from subhalo_tree_16.dat\n",
      "  read  5823060 subhalo from subhalo_tree_17.dat\n",
      "  read  5795900 subhalo from subhalo_tree_18.dat\n",
      "  read  5753867 subhalo from subhalo_tree_19.dat\n",
      "  read  5697344 subhalo from subhalo_tree_20.dat\n",
      "  read  5620673 subhalo from subhalo_tree_21.dat\n",
      "  read  5527314 subhalo from subhalo_tree_22.dat\n",
      "  read  5409626 subhalo from subhalo_tree_23.dat\n",
      "  read  5270374 subhalo from subhalo_tree_24.dat\n",
      "  read  5105362 subhalo from subhalo_tree_25.dat\n",
      "  read  4914942 subhalo from subhalo_tree_26.dat\n",
      "  read  4697199 subhalo from subhalo_tree_27.dat\n",
      "  read  4451504 subhalo from subhalo_tree_28.dat\n",
      "  read  4187628 subhalo from subhalo_tree_29.dat\n",
      "  read  3901457 subhalo from subhalo_tree_30.dat\n",
      "  read  3591830 subhalo from subhalo_tree_31.dat\n",
      "  read  3267446 subhalo from subhalo_tree_32.dat\n",
      "  read  2906961 subhalo from subhalo_tree_33.dat\n",
      "  read  2467383 subhalo from subhalo_tree_34.dat\n"
     ]
    }
   ],
   "source": [
    "htpm=mr.HalTreepmClass()"
   ]
  },
  {
   "cell_type": "code",
   "execution_count": 4,
   "metadata": {},
   "outputs": [
    {
     "name": "stderr",
     "output_type": "stream",
     "text": [
      "  0% |                                                                        |\r"
     ]
    },
    {
     "name": "stdout",
     "output_type": "stream",
     "text": [
      "running SHAM\n"
     ]
    },
    {
     "name": "stderr",
     "output_type": "stream",
     "text": [
      "100% |########################################################################|\n"
     ]
    }
   ],
   "source": [
    "gtpm=mr.GalTreepmClass(htpm)"
   ]
  },
  {
   "cell_type": "code",
   "execution_count": 5,
   "metadata": {},
   "outputs": [
    {
     "name": "stderr",
     "output_type": "stream",
     "text": [
      "  0% |                                                                        |\r"
     ]
    },
    {
     "name": "stdout",
     "output_type": "stream",
     "text": [
      "running SHAM\n"
     ]
    },
    {
     "name": "stderr",
     "output_type": "stream",
     "text": [
      "100% |########################################################################|\n"
     ]
    }
   ],
   "source": [
    "gtpm2=mr.GalTreepmClass(htpm)"
   ]
  },
  {
   "cell_type": "code",
   "execution_count": 6,
   "metadata": {},
   "outputs": [
    {
     "name": "stderr",
     "output_type": "stream",
     "text": [
      "  0% |                                                                        |\r"
     ]
    },
    {
     "name": "stdout",
     "output_type": "stream",
     "text": [
      "running SHAM\n"
     ]
    },
    {
     "name": "stderr",
     "output_type": "stream",
     "text": [
      "100% |########################################################################|\n"
     ]
    }
   ],
   "source": [
    "gtpm3=mr.GalTreepmClass(htpm)"
   ]
  },
  {
   "cell_type": "code",
   "execution_count": null,
   "metadata": {},
   "outputs": [],
   "source": []
  }
 ],
 "metadata": {
  "kernelspec": {
   "display_name": "Python 3",
   "language": "python",
   "name": "python3"
  },
  "language_info": {
   "codemirror_mode": {
    "name": "ipython",
    "version": 3
   },
   "file_extension": ".py",
   "mimetype": "text/x-python",
   "name": "python",
   "nbconvert_exporter": "python",
   "pygments_lexer": "ipython3",
   "version": "3.6.5"
  }
 },
 "nbformat": 4,
 "nbformat_minor": 2
}

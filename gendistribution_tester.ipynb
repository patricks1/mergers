{
 "cells": [
  {
   "cell_type": "code",
   "execution_count": 18,
   "metadata": {},
   "outputs": [
    {
     "name": "stderr",
     "output_type": "stream",
     "text": [
      "/home/users/staudt/envs/mergerspython2env/lib/python2.7/site-packages/ipykernel_launcher.py:2: UserWarning: \n",
      "This call to matplotlib.use() has no effect because the backend has already\n",
      "been chosen; matplotlib.use() must be called *before* pylab, matplotlib.pyplot,\n",
      "or matplotlib.backends is imported for the first time.\n",
      "\n",
      "The backend was *originally* set to 'module://ipykernel.pylab.backend_inline' by the following code:\n",
      "  File \"/usr/lib64/python2.7/runpy.py\", line 162, in _run_module_as_main\n",
      "    \"__main__\", fname, loader, pkg_name)\n",
      "  File \"/usr/lib64/python2.7/runpy.py\", line 72, in _run_code\n",
      "    exec code in run_globals\n",
      "  File \"/home/users/staudt/envs/mergerspython2env/lib/python2.7/site-packages/ipykernel_launcher.py\", line 16, in <module>\n",
      "    app.launch_new_instance()\n",
      "  File \"/home/users/staudt/envs/mergerspython2env/lib/python2.7/site-packages/traitlets/config/application.py\", line 658, in launch_instance\n",
      "    app.start()\n",
      "  File \"/home/users/staudt/envs/mergerspython2env/lib/python2.7/site-packages/ipykernel/kernelapp.py\", line 486, in start\n",
      "    self.io_loop.start()\n",
      "  File \"/home/users/staudt/envs/mergerspython2env/lib/python2.7/site-packages/tornado/ioloop.py\", line 1064, in start\n",
      "    handler_func(fd_obj, events)\n",
      "  File \"/home/users/staudt/envs/mergerspython2env/lib/python2.7/site-packages/tornado/stack_context.py\", line 276, in null_wrapper\n",
      "    return fn(*args, **kwargs)\n",
      "  File \"/home/users/staudt/envs/mergerspython2env/lib/python2.7/site-packages/zmq/eventloop/zmqstream.py\", line 450, in _handle_events\n",
      "    self._handle_recv()\n",
      "  File \"/home/users/staudt/envs/mergerspython2env/lib/python2.7/site-packages/zmq/eventloop/zmqstream.py\", line 480, in _handle_recv\n",
      "    self._run_callback(callback, msg)\n",
      "  File \"/home/users/staudt/envs/mergerspython2env/lib/python2.7/site-packages/zmq/eventloop/zmqstream.py\", line 432, in _run_callback\n",
      "    callback(*args, **kwargs)\n",
      "  File \"/home/users/staudt/envs/mergerspython2env/lib/python2.7/site-packages/tornado/stack_context.py\", line 276, in null_wrapper\n",
      "    return fn(*args, **kwargs)\n",
      "  File \"/home/users/staudt/envs/mergerspython2env/lib/python2.7/site-packages/ipykernel/kernelbase.py\", line 283, in dispatcher\n",
      "    return self.dispatch_shell(stream, msg)\n",
      "  File \"/home/users/staudt/envs/mergerspython2env/lib/python2.7/site-packages/ipykernel/kernelbase.py\", line 233, in dispatch_shell\n",
      "    handler(stream, idents, msg)\n",
      "  File \"/home/users/staudt/envs/mergerspython2env/lib/python2.7/site-packages/ipykernel/kernelbase.py\", line 399, in execute_request\n",
      "    user_expressions, allow_stdin)\n",
      "  File \"/home/users/staudt/envs/mergerspython2env/lib/python2.7/site-packages/ipykernel/ipkernel.py\", line 208, in do_execute\n",
      "    res = shell.run_cell(code, store_history=store_history, silent=silent)\n",
      "  File \"/home/users/staudt/envs/mergerspython2env/lib/python2.7/site-packages/ipykernel/zmqshell.py\", line 537, in run_cell\n",
      "    return super(ZMQInteractiveShell, self).run_cell(*args, **kwargs)\n",
      "  File \"/home/users/staudt/envs/mergerspython2env/lib/python2.7/site-packages/IPython/core/interactiveshell.py\", line 2714, in run_cell\n",
      "    interactivity=interactivity, compiler=compiler, result=result)\n",
      "  File \"/home/users/staudt/envs/mergerspython2env/lib/python2.7/site-packages/IPython/core/interactiveshell.py\", line 2824, in run_ast_nodes\n",
      "    if self.run_code(code, result):\n",
      "  File \"/home/users/staudt/envs/mergerspython2env/lib/python2.7/site-packages/IPython/core/interactiveshell.py\", line 2878, in run_code\n",
      "    exec(code_obj, self.user_global_ns, self.user_ns)\n",
      "  File \"<ipython-input-1-928c2c49971e>\", line 14, in <module>\n",
      "    get_ipython().magic(u'matplotlib inline')\n",
      "  File \"/home/users/staudt/envs/mergerspython2env/lib/python2.7/site-packages/IPython/core/interactiveshell.py\", line 2160, in magic\n",
      "    return self.run_line_magic(magic_name, magic_arg_s)\n",
      "  File \"/home/users/staudt/envs/mergerspython2env/lib/python2.7/site-packages/IPython/core/interactiveshell.py\", line 2081, in run_line_magic\n",
      "    result = fn(*args,**kwargs)\n",
      "  File \"<decorator-gen-105>\", line 2, in matplotlib\n",
      "  File \"/home/users/staudt/envs/mergerspython2env/lib/python2.7/site-packages/IPython/core/magic.py\", line 188, in <lambda>\n",
      "    call = lambda f, *a, **k: f(*a, **k)\n",
      "  File \"/home/users/staudt/envs/mergerspython2env/lib/python2.7/site-packages/IPython/core/magics/pylab.py\", line 100, in matplotlib\n",
      "    gui, backend = self.shell.enable_matplotlib(args.gui)\n",
      "  File \"/home/users/staudt/envs/mergerspython2env/lib/python2.7/site-packages/IPython/core/interactiveshell.py\", line 2966, in enable_matplotlib\n",
      "    pt.activate_matplotlib(backend)\n",
      "  File \"/home/users/staudt/envs/mergerspython2env/lib/python2.7/site-packages/IPython/core/pylabtools.py\", line 315, in activate_matplotlib\n",
      "    matplotlib.pyplot.switch_backend(backend)\n",
      "  File \"/home/users/staudt/envs/mergerspython2env/lib/python2.7/site-packages/matplotlib/pyplot.py\", line 233, in switch_backend\n",
      "    _backend_mod, new_figure_manager, draw_if_interactive, _show = pylab_setup()\n",
      "  File \"/home/users/staudt/envs/mergerspython2env/lib/python2.7/site-packages/matplotlib/backends/__init__.py\", line 62, in pylab_setup\n",
      "    [backend_name], 0)\n",
      "  File \"/home/users/staudt/envs/mergerspython2env/lib/python2.7/site-packages/ipykernel/pylab/backend_inline.py\", line 165, in <module>\n",
      "    _enable_matplotlib_integration()\n",
      "  File \"/home/users/staudt/envs/mergerspython2env/lib/python2.7/site-packages/ipykernel/pylab/backend_inline.py\", line 155, in _enable_matplotlib_integration\n",
      "    activate_matplotlib(backend)\n",
      "  File \"/home/users/staudt/envs/mergerspython2env/lib/python2.7/site-packages/IPython/core/pylabtools.py\", line 315, in activate_matplotlib\n",
      "    matplotlib.pyplot.switch_backend(backend)\n",
      "  File \"/home/users/staudt/envs/mergerspython2env/lib/python2.7/site-packages/matplotlib/pyplot.py\", line 231, in switch_backend\n",
      "    matplotlib.use(newbackend, warn=False, force=True)\n",
      "  File \"/home/users/staudt/envs/mergerspython2env/lib/python2.7/site-packages/matplotlib/__init__.py\", line 1410, in use\n",
      "    reload(sys.modules['matplotlib.backends'])\n",
      "  File \"/home/users/staudt/envs/mergerspython2env/lib/python2.7/site-packages/matplotlib/backends/__init__.py\", line 16, in <module>\n",
      "    line for line in traceback.format_stack()\n",
      "\n",
      "\n",
      "  \n"
     ]
    }
   ],
   "source": [
    "import matplotlib as mpl\n",
    "mpl.use('Agg')\n",
    "\n",
    "from matplotlib import rcParams\n",
    "rcParams['font.family']='serif'\n",
    "rcParams['mathtext.fontset'] = 'dejavuserif'\n",
    "\n",
    "import matplotlib.pyplot as plt\n",
    "\n",
    "import massmapper as mm\n",
    "import numpy as np\n",
    "import random\n",
    "import h5py\n",
    "\n",
    "%matplotlib inline"
   ]
  },
  {
   "cell_type": "code",
   "execution_count": 2,
   "metadata": {
    "scrolled": false
   },
   "outputs": [],
   "source": [
    "masswidth=0.5\n",
    "n=50\n",
    "catalog_kind='subhalo'"
   ]
  },
  {
   "cell_type": "code",
   "execution_count": 3,
   "metadata": {
    "scrolled": false
   },
   "outputs": [
    {
     "name": "stdout",
     "output_type": "stream",
     "text": [
      "# in treepm.subhalo_io.Treepm():\n",
      "  read /data1/arwetzel/lcdm250/snapshot.txt\n",
      "  read  5177765 subhalo from subhalo_tree_00.dat\n",
      "  read  5407196 subhalo from subhalo_tree_01.dat\n",
      "  read  5485481 subhalo from subhalo_tree_02.dat\n",
      "  read  5517336 subhalo from subhalo_tree_03.dat\n",
      "  read  5548084 subhalo from subhalo_tree_04.dat\n",
      "  read  5583078 subhalo from subhalo_tree_05.dat\n",
      "  read  5615345 subhalo from subhalo_tree_06.dat\n",
      "  read  5650410 subhalo from subhalo_tree_07.dat\n",
      "  read  5682696 subhalo from subhalo_tree_08.dat\n",
      "  read  5715688 subhalo from subhalo_tree_09.dat\n",
      "  read  5748795 subhalo from subhalo_tree_10.dat\n",
      "  read  5779167 subhalo from subhalo_tree_11.dat\n",
      "  read  5805949 subhalo from subhalo_tree_12.dat\n",
      "  read  5824060 subhalo from subhalo_tree_13.dat\n",
      "  read  5837797 subhalo from subhalo_tree_14.dat\n",
      "  read  5841491 subhalo from subhalo_tree_15.dat\n",
      "  read  5836226 subhalo from subhalo_tree_16.dat\n",
      "  read  5823060 subhalo from subhalo_tree_17.dat\n",
      "  read  5795900 subhalo from subhalo_tree_18.dat\n",
      "  read  5753867 subhalo from subhalo_tree_19.dat\n",
      "  read  5697344 subhalo from subhalo_tree_20.dat\n",
      "  read  5620673 subhalo from subhalo_tree_21.dat\n",
      "  read  5527314 subhalo from subhalo_tree_22.dat\n",
      "  read  5409626 subhalo from subhalo_tree_23.dat\n",
      "  read  5270374 subhalo from subhalo_tree_24.dat\n",
      "  read  5105362 subhalo from subhalo_tree_25.dat\n",
      "  read  4914942 subhalo from subhalo_tree_26.dat\n",
      "  read  4697199 subhalo from subhalo_tree_27.dat\n",
      "  read  4451504 subhalo from subhalo_tree_28.dat\n",
      "  read  4187628 subhalo from subhalo_tree_29.dat\n",
      "  read  3901457 subhalo from subhalo_tree_30.dat\n",
      "  read  3591830 subhalo from subhalo_tree_31.dat\n",
      "  read  3267446 subhalo from subhalo_tree_32.dat\n",
      "  read  2906961 subhalo from subhalo_tree_33.dat\n",
      "  read  2467383 subhalo from subhalo_tree_34.dat\n"
     ]
    },
    {
     "name": "stderr",
     "output_type": "stream",
     "text": [
      "  0% |                                                                        |\r"
     ]
    },
    {
     "name": "stdout",
     "output_type": "stream",
     "text": [
      "\n",
      "121120 halos in range. Evaluating a sample of 50.\n",
      "generating family trees for 50 main progenitors\n"
     ]
    },
    {
     "name": "stderr",
     "output_type": "stream",
     "text": [
      "100% |########################################################################|\n"
     ]
    },
    {
     "data": {
      "text/plain": [
       "<Figure size 432x288 with 0 Axes>"
      ]
     },
     "metadata": {},
     "output_type": "display_data"
    },
    {
     "data": {
      "image/png": "[encoded data removed]",
      "text/plain": [
       "<Figure size 576x432 with 1 Axes>"
      ]
     },
     "metadata": {},
     "output_type": "display_data"
    },
    {
     "name": "stdout",
     "output_type": "stream",
     "text": [
      "# in treepm.subhalo_io.Treepm():\n",
      "  read /data1/arwetzel/lcdm250/snapshot.txt\n",
      "  read  5177765 subhalo from subhalo_tree_00.dat\n",
      "  read  5407196 subhalo from subhalo_tree_01.dat\n",
      "  read  5485481 subhalo from subhalo_tree_02.dat\n",
      "  read  5517336 subhalo from subhalo_tree_03.dat\n",
      "  read  5548084 subhalo from subhalo_tree_04.dat\n",
      "  read  5583078 subhalo from subhalo_tree_05.dat\n",
      "  read  5615345 subhalo from subhalo_tree_06.dat\n",
      "  read  5650410 subhalo from subhalo_tree_07.dat\n",
      "  read  5682696 subhalo from subhalo_tree_08.dat\n",
      "  read  5715688 subhalo from subhalo_tree_09.dat\n",
      "  read  5748795 subhalo from subhalo_tree_10.dat\n",
      "  read  5779167 subhalo from subhalo_tree_11.dat\n",
      "  read  5805949 subhalo from subhalo_tree_12.dat\n",
      "  read  5824060 subhalo from subhalo_tree_13.dat\n",
      "  read  5837797 subhalo from subhalo_tree_14.dat\n",
      "  read  5841491 subhalo from subhalo_tree_15.dat\n",
      "  read  5836226 subhalo from subhalo_tree_16.dat\n",
      "  read  5823060 subhalo from subhalo_tree_17.dat\n",
      "  read  5795900 subhalo from subhalo_tree_18.dat\n",
      "  read  5753867 subhalo from subhalo_tree_19.dat\n",
      "  read  5697344 subhalo from subhalo_tree_20.dat\n",
      "  read  5620673 subhalo from subhalo_tree_21.dat\n",
      "  read  5527314 subhalo from subhalo_tree_22.dat\n",
      "  read  5409626 subhalo from subhalo_tree_23.dat\n",
      "  read  5270374 subhalo from subhalo_tree_24.dat\n",
      "  read  5105362 subhalo from subhalo_tree_25.dat\n",
      "  read  4914942 subhalo from subhalo_tree_26.dat\n",
      "  read  4697199 subhalo from subhalo_tree_27.dat\n",
      "  read  4451504 subhalo from subhalo_tree_28.dat\n",
      "  read  4187628 subhalo from subhalo_tree_29.dat\n",
      "  read  3901457 subhalo from subhalo_tree_30.dat\n",
      "  read  3591830 subhalo from subhalo_tree_31.dat\n",
      "  read  3267446 subhalo from subhalo_tree_32.dat\n",
      "  read  2906961 subhalo from subhalo_tree_33.dat\n",
      "  read  2467383 subhalo from subhalo_tree_34.dat\n"
     ]
    },
    {
     "name": "stderr",
     "output_type": "stream",
     "text": [
      "  0% |                                                                        |\r"
     ]
    },
    {
     "name": "stdout",
     "output_type": "stream",
     "text": [
      "\n",
      "13280 halos in range. Evaluating a sample of 50.\n",
      "generating family trees for 50 main progenitors\n"
     ]
    },
    {
     "name": "stderr",
     "output_type": "stream",
     "text": [
      "100% |########################################################################|\n"
     ]
    },
    {
     "data": {
      "text/plain": [
       "<Figure size 432x288 with 0 Axes>"
      ]
     },
     "metadata": {},
     "output_type": "display_data"
    },
    {
     "data": {
      "image/png": "[encoded data removed]",
      "text/plain": [
       "<Figure size 576x432 with 1 Axes>"
      ]
     },
     "metadata": {},
     "output_type": "display_data"
    }
   ],
   "source": [
    "cat12=mm.Mergerdata(12.,masswidth,catalog_kind=catalog_kind,n=n)\n",
    "cat12.gendistribution()\n",
    "cat13=mm.Mergerdata(13.,masswidth,catalog_kind=catalog_kind,n=n)\n",
    "cat13.gendistribution()"
   ]
  },
  {
   "cell_type": "code",
   "execution_count": 47,
   "metadata": {},
   "outputs": [],
   "source": [
    "Nbins=50.\n",
    "\n",
    "def N_gmratio(cat):\n",
    "    lowerbound=min(cat.mratios)\n",
    "    upperbound=max(cat.mratios)\n",
    "    print lowerbound\n",
    "    print upperbound\n",
    "    bins=np.logspace(np.log10(lowerbound),np.log10(upperbound),Nbins)\n",
    "    midbins=(bins[:-1]+bins[1:])/2\n",
    "    N=plt.hist(cat.mratios,bins)[0]\n",
    "    plt.clf()\n",
    "\n",
    "    N=N/len(cat.halis[0])\n",
    "    N_gmratio=np.array([N[i:].sum() for i in np.arange(len(N))]) #N(>=m/m0) --- avg number of mergers that occured with ratios greater than or equal to the given m/m0\n",
    "    \n",
    "    return N_gmratio,midbins\n",
    "\n",
    "def prob_mw(cat):\n",
    "    lowerbound=min(cat.mratios)\n",
    "    upperbound=max(cat.mratios)\n",
    "    bins=np.logspace(np.log10(lowerbound),np.log10(upperbound),Nbins)\n",
    "    midbins=(bins[:-1]+bins[1:])/2\n",
    "    N=plt.hist(cat.mratios,bins)[0]\n",
    "    plt.clf()\n",
    "    \n",
    "    binwid=np.average(np.log10(bins[1:]/bins[:-1])) #bin width in dex\n",
    "    \n",
    "    P=N/len(cat.mratios)/binwid\n",
    "    P_mw=P*midbins*10.**cat.mhal0\n",
    "\n",
    "    return P_mw,midbins"
   ]
  },
  {
   "cell_type": "code",
   "execution_count": 5,
   "metadata": {},
   "outputs": [
    {
     "data": {
      "text/plain": [
       "<Figure size 432x288 with 0 Axes>"
      ]
     },
     "metadata": {},
     "output_type": "display_data"
    },
    {
     "data": {
      "image/png": "[encoded data removed]",
      "text/plain": [
       "<Figure size 648x504 with 1 Axes>"
      ]
     },
     "metadata": {},
     "output_type": "display_data"
    }
   ],
   "source": [
    "Nbins=20.\n",
    "\n",
    "P_mw12,midbins12=prob_mw(cat12)\n",
    "#P_mw13,midbins12=prob_mw(cat13)\n",
    "\n",
    "fig=plt.figure(figsize=(9,7))\n",
    "ax=fig.add_subplot(1,1,1)\n",
    "\n",
    "ax.semilogx(midbins12,P_mw12,'db')\n",
    "#ax.semilogx(midbins13,P_mw13,'dr')\n",
    "ax.set_xlabel('$m/M_0$',fontsize=14)\n",
    "ax.set_ylabel('$f\\\\left(\\\\frac{m}{M_0}\\\\right)$ / [M$_\\odot$ dex$^{-1}]$',fontsize=14)\n",
    "ax.set_title('Mass-Weighted Probability Density of Subhalo Mergers'\n",
    "             ', $M_0=10^{{{0:0.0f}}}$'\n",
    "             .format(cat12.mhal0),\n",
    "             fontsize=16,y=1.04)\n",
    "ax.grid()\n",
    "plt.show()"
   ]
  },
  {
   "cell_type": "code",
   "execution_count": 48,
   "metadata": {},
   "outputs": [
    {
     "name": "stdout",
     "output_type": "stream",
     "text": [
      "0.00717501086698129\n",
      "0.33514172476034393\n",
      "0.0006351558276651688\n",
      "0.3517600615679712\n"
     ]
    },
    {
     "data": {
      "text/plain": [
       "<Figure size 432x288 with 0 Axes>"
      ]
     },
     "metadata": {},
     "output_type": "display_data"
    }
   ],
   "source": [
    "N_gmratio12,midbins12= N_gmratio(cat12)\n",
    "N_gmratio13,midbins13= N_gmratio(cat13)"
   ]
  },
  {
   "cell_type": "code",
   "execution_count": 7,
   "metadata": {},
   "outputs": [
    {
     "data": {
      "image/png": "[encoded data removed]",
      "text/plain": [
       "<Figure size 576x432 with 1 Axes>"
      ]
     },
     "metadata": {},
     "output_type": "display_data"
    }
   ],
   "source": [
    "fig=plt.figure(figsize=(8,6))\n",
    "ax=fig.add_subplot(1,1,1)\n",
    "\n",
    "ax.loglog(midbins12,N_gmratio12,'s',mec='b',mfc='None',label='$M_0=10^{12}$ M$_\\odot$')\n",
    "ax.loglog(midbins13,N_gmratio13,'s',mec='r',mfc='None',label='$M_0=10^{13}$ M$_\\odot$')\n",
    "\n",
    "#ax.set_title('$M_0=10^{{{0:0.0f}}}$ halo mergers'.\n",
    "#             format(mainbranches.mhal0),fontsize=16)\n",
    "ax.set_title('Subhalo mergers',fontsize=16)\n",
    "ax.set_xlabel('$m/M_0$',fontsize=14)\n",
    "ax.set_ylabel('$N\\left(\\geq\\\\frac{m}{M_0}\\\\right)$',fontsize=14)\n",
    "#ax.set_xlim(10.**-3.,10.**-0.3)\n",
    "#ax.set_ylim(10.**-1.,10**1.65)\n",
    "ax.tick_params(axis='both',labelsize=13)\n",
    "ax.legend(fontsize=13)\n",
    "ax.grid()\n",
    "\n",
    "plt.show()"
   ]
  },
  {
   "cell_type": "markdown",
   "metadata": {},
   "source": [
    "## The following is the distribution of all accreted mass, not just halos"
   ]
  },
  {
   "cell_type": "code",
   "execution_count": 8,
   "metadata": {},
   "outputs": [
    {
     "name": "stderr",
     "output_type": "stream",
     "text": [
      "100% |########################################################################|\n"
     ]
    },
    {
     "data": {
      "image/png": "[encoded data removed]",
      "text/plain": [
       "<Figure size 432x288 with 1 Axes>"
      ]
     },
     "metadata": {},
     "output_type": "display_data"
    },
    {
     "data": {
      "image/png": "[encoded data removed]",
      "text/plain": [
       "<Figure size 576x432 with 1 Axes>"
      ]
     },
     "metadata": {},
     "output_type": "display_data"
    }
   ],
   "source": [
    "cat12.populatemap()\n",
    "m1array,m0array,mergerratioarray=cat12.genaccdist()\n",
    "\n",
    "loglower=-3.\n",
    "logupper=0.\n",
    "bins=np.logspace(loglower,logupper,50.)\n",
    "midbins=(bins[1:]+bins[:-1])/2\n",
    "N=plt.hist(mergerratioarray,bins=bins)[0]\n",
    "#plt.clf()\n",
    "\n",
    "N=N/len(cat12.halis[0])\n",
    "N_geqmratio=np.array([N[i:].sum() for i in np.arange(len(N))])\n",
    "plt.figure(figsize=(8,6))\n",
    "plt.loglog(midbins,N_geqmratio,'bd')\n",
    "plt.title('Accretion distribution for '\n",
    "          '$M_0=10^{{{0:0.0f}}}, \\\\frac{{m}}{{M_0}}$'\n",
    "          '$\\in [10^{{{1:0.0f}}}, 10^{{{2:0.0f}}}]$'\n",
    "          .format(cat12.mhal0,\n",
    "                  loglower,\n",
    "                  logupper),fontsize=16,y=1.03)\n",
    "plt.xlabel('$m/M_0$',fontsize=14)\n",
    "plt.ylabel('$N\\left(\\geq\\\\frac{m}{M_0}\\\\right)$',fontsize=14)\n",
    "plt.show()"
   ]
  },
  {
   "cell_type": "code",
   "execution_count": 35,
   "metadata": {},
   "outputs": [
    {
     "name": "stdout",
     "output_type": "stream",
     "text": [
      "keys: [u'm_M0']\n"
     ]
    }
   ],
   "source": [
    "f= h5py.File('m_M0.h5','r')\n",
    "\n",
    "print('keys: %s' % f.keys())\n",
    "a_group_key=list(f.keys())[0]\n",
    "data=list(f[a_group_key])"
   ]
  },
  {
   "cell_type": "code",
   "execution_count": 72,
   "metadata": {},
   "outputs": [
    {
     "name": "stdout",
     "output_type": "stream",
     "text": [
      "[4.29697175e-16 4.83678300e-16 5.44440857e-16 6.12836769e-16\n",
      " 6.89824985e-16 7.76484919e-16 8.74031592e-16 9.83832661e-16\n",
      " 1.10742760e-15 1.24654926e-15 1.40314823e-15 1.57942009e-15\n",
      " 1.77783627e-15 2.00117868e-15 2.25257870e-15 2.53556109e-15\n",
      " 2.85409342e-15 3.21264168e-15 3.61623292e-15 4.07052569e-15\n",
      " 4.58188944e-15 5.15749376e-15 5.80540893e-15 6.53471907e-15\n",
      " 7.35564950e-15 8.27971013e-15 9.31985676e-15 1.04906728e-14\n",
      " 1.18085738e-14 1.32920374e-14 1.49618625e-14 1.68414610e-14\n",
      " 1.89571859e-14 2.13387009e-14 2.40193959e-14 2.70368559e-14\n",
      " 3.04333872e-14 3.42566110e-14 3.85601311e-14 4.34042851e-14\n",
      " 4.88569906e-14 5.49946976e-14 6.19034599e-14 6.96801423e-14\n",
      " 7.84337779e-14 8.82870975e-14 9.93782500e-14 1.11862739e-13\n",
      " 1.25915605e-13 1.41733875e-13 1.59539331e-13 1.79581614e-13\n",
      " 2.02141729e-13 2.27535981e-13 2.56120410e-13 2.88295785e-13\n",
      " 3.24513223e-13 3.65280513e-13 4.11169232e-13 4.62822767e-13\n",
      " 5.20965327e-13 5.86412103e-13 6.60080694e-13 7.43003973e-13\n",
      " 8.36344569e-13 9.41411169e-13 1.05967686e-12 1.19279980e-12\n",
      " 1.34264643e-12 1.51131770e-12 1.70117845e-12 1.91489065e-12\n",
      " 2.15545065e-12 2.42623124e-12 2.73102889e-12 3.07411705e-12\n",
      " 3.46030600e-12 3.89501030e-12 4.38432476e-12 4.93510982e-12\n",
      " 5.55508779e-12 6.25295110e-12 7.03848416e-12 7.92270058e-12\n",
      " 8.91799754e-12 1.00383297e-11 1.12994046e-11 1.27189033e-11\n",
      " 1.43167279e-11 1.61152807e-11 1.81397785e-11 2.04186059e-11\n",
      " 2.29837131e-11 2.58710644e-11 2.91211420e-11 3.27795138e-11\n",
      " 3.68974721e-11 4.15327529e-11 4.67503453e-11 5.26234029e-11\n",
      " 5.92342691e-11 6.66756318e-11 7.50518229e-11 8.44802811e-11\n",
      " 9.50931985e-11 1.07039374e-10 1.20486300e-10 1.35622508e-10\n",
      " 1.52660218e-10 1.71838306e-10 1.93425660e-10 2.17724947e-10\n",
      " 2.45076855e-10 2.75864873e-10 3.10520666e-10 3.49530127e-10\n",
      " 3.93440189e-10 4.42866495e-10 4.98502029e-10 5.61126831e-10\n",
      " 6.31618935e-10 7.10966678e-10 8.00282559e-10 9.00818833e-10\n",
      " 1.01398508e-09 1.14136794e-09 1.28475339e-09 1.44615179e-09\n",
      " 1.62782601e-09 1.83232324e-09 2.06251063e-09 2.32161553e-09\n",
      " 2.61327074e-09 2.94156542e-09 3.31110243e-09 3.72706289e-09\n",
      " 4.19527879e-09 4.72231477e-09 5.31556016e-09 5.98333257e-09\n",
      " 6.73499455e-09 7.58108478e-09 8.53346593e-09 9.60549089e-09\n",
      " 1.08121900e-08 1.21704819e-08 1.36994105e-08 1.54204123e-08\n",
      " 1.73576166e-08 1.95381841e-08 2.19926874e-08 2.47555402e-08\n",
      " 2.78654790e-08 3.13661069e-08 3.53065046e-08 3.97419185e-08\n",
      " 4.47345357e-08 5.03543552e-08 5.66801701e-08 6.38006716e-08\n",
      " 7.18156930e-08 8.08376092e-08 9.09929125e-08 1.02423986e-07\n",
      " 1.15291098e-07 1.29774655e-07 1.46077722e-07 1.64428878e-07\n",
      " 1.85085416e-07 2.08336951e-07 2.34509483e-07 2.63969965e-07\n",
      " 2.97131448e-07 3.34458875e-07 3.76475597e-07 4.23770710e-07\n",
      " 4.77007317e-07 5.36931825e-07 6.04384408e-07 6.80310787e-07\n",
      " 7.65775491e-07 8.61976782e-07 9.70263454e-07 1.09215374e-06\n",
      " 1.22935662e-06 1.38379574e-06 1.55763643e-06 1.75331602e-06\n",
      " 1.97357805e-06 2.22151071e-06 2.50059015e-06 2.81472922e-06\n",
      " 3.16833231e-06 3.56635714e-06 4.01438423e-06 4.51869515e-06\n",
      " 5.08636062e-06 5.72533962e-06 6.44459098e-06 7.25419899e-06\n",
      " 8.16551479e-06 9.19131553e-06 1.03459835e-05 1.16457077e-05\n",
      " 1.31087111e-05 1.47555056e-05 1.66091804e-05 1.86957248e-05\n",
      " 2.10443934e-05 2.36881158e-05 2.66639584e-05 3.00136441e-05\n",
      " 3.37841373e-05 3.80283025e-05 4.28056449e-05 4.81831457e-05\n",
      " 5.42362002e-05 6.10496756e-05 6.87191005e-05 7.73520043e-05\n",
      " 8.70694251e-05 9.80076063e-05 1.10319907e-04 1.24178953e-04\n",
      " 1.39779054e-04 1.57338934e-04 1.77104791e-04 1.99353752e-04\n",
      " 2.24397761e-04 2.52587948e-04 2.84319555e-04 3.20037475e-04\n",
      " 3.60242494e-04 4.05498308e-04 4.56439427e-04 5.13780074e-04\n",
      " 5.78324196e-04 6.50976735e-04 7.32756321e-04 8.24809546e-04\n",
      " 9.28427047e-04 1.04506160e-03 1.17634848e-03 1.32412840e-03\n",
      " 1.49047332e-03 1.67771548e-03 1.88848011e-03 2.12572227e-03\n",
      " 2.39276819e-03 2.69336202e-03 3.03171825e-03 3.41258080e-03\n",
      " 3.84128958e-03 4.32385532e-03 4.86704385e-03 5.47847097e-03\n",
      " 6.16670921e-03 6.94140805e-03 7.81342919e-03 8.79499882e-03\n",
      " 9.89987910e-03 1.11435610e-02 1.25434817e-02 1.41192688e-02\n",
      " 1.58930157e-02 1.78895913e-02 2.01369886e-02 2.26667173e-02\n",
      " 2.55142457e-02 2.87194977e-02 3.23274125e-02 3.63885751e-02\n",
      " 4.09599252e-02 4.61055557e-02 5.18976110e-02 5.84172988e-02\n",
      " 6.57560288e-02 7.40166938e-02 8.33151130e-02 9.37816551e-02\n",
      " 1.05563067e-01 1.18824530e-01 1.33751977e-01 1.50554699e-01\n",
      " 1.69468279e-01 1.90757897e-01 2.14722043e-01 2.41696708e-01\n",
      " 2.72060092e-01 3.06237906e-01 3.44709341e-01 3.88013787e-01\n",
      " 4.36758396e-01 4.91626594e-01 5.53387663e-01 6.22907527e-01\n",
      " 7.01160891e-01 7.89244909e-01 8.88394568e-01 1.00000000e+00]\n"
     ]
    },
    {
     "data": {
      "image/png": "[encoded data removed]",
      "text/plain": [
       "<Figure size 432x288 with 1 Axes>"
      ]
     },
     "metadata": {},
     "output_type": "display_data"
    }
   ],
   "source": [
    "logmratios=np.array(data)\n",
    "mratios=[min(10.**logmratios[i],1./10.**logmratios[i]) for i in range(len(logmratios))]\n",
    "\n",
    "Nbins=300\n",
    "lowerbound=min(mratios)\n",
    "upperbound=max(mratios)\n",
    "bins=np.logspace(np.log10(lowerbound),np.log10(upperbound),Nbins)\n",
    "print bins\n",
    "\n",
    "midbins=(bins[:-1]+bins[1:])/2\n",
    "N=plt.hist(mratios,bins=bins,edgecolor='k')[0]\n",
    "#plt.clf()"
   ]
  },
  {
   "cell_type": "code",
   "execution_count": 73,
   "metadata": {},
   "outputs": [
    {
     "data": {
      "image/png": "[encoded data removed]",
      "text/plain": [
       "<Figure size 576x432 with 1 Axes>"
      ]
     },
     "metadata": {},
     "output_type": "display_data"
    }
   ],
   "source": [
    "N=N/len(cat12.halis[0])\n",
    "N_gmratio=np.array([N[i:].sum() for i in np.arange(len(N))]) #N(>=m/m0) --- avg number of mergers that occured with ratios greater than or equal to the given m/m0\n",
    "\n",
    "fig=plt.figure(figsize=(8,6))\n",
    "ax=fig.add_subplot(1,1,1)\n",
    "\n",
    "ax.loglog(midbins,N_gmratio,'s',mec='b',mfc='None',label='$M_0=10^{12}$ M$_\\odot$')\n",
    "\n",
    "#ax.set_title('$M_0=10^{{{0:0.0f}}}$ halo mergers'.\n",
    "#             format(mainbranches.mhal0),fontsize=16)\n",
    "ax.set_title('Subhalo mergers',fontsize=16)\n",
    "ax.set_xlabel('$m/M_0$',fontsize=14)\n",
    "ax.set_ylabel('$N\\left(\\geq\\\\frac{m}{M_0}\\\\right)$',fontsize=14)\n",
    "#ax.set_xlim(10.**-3.,10.**-0.3)\n",
    "#ax.set_ylim(10.**-1.,10**1.65)\n",
    "ax.tick_params(axis='both',labelsize=13)\n",
    "ax.legend(fontsize=13)\n",
    "ax.grid()\n",
    "\n",
    "plt.show()"
   ]
  },
  {
   "cell_type": "code",
   "execution_count": 2,
   "metadata": {},
   "outputs": [
    {
     "data": {
      "image/png": "[encoded data removed]",
      "text/plain": [
       "<Figure size 432x432 with 1 Axes>"
      ]
     },
     "metadata": {},
     "output_type": "display_data"
    }
   ],
   "source": [
    "from _mergertrack import plotMFaccreted\n",
    "plotMFaccreted()"
   ]
  }
 ],
 "metadata": {
  "kernelspec": {
   "display_name": "Python 2",
   "language": "python",
   "name": "python2"
  },
  "language_info": {
   "codemirror_mode": {
    "name": "ipython",
    "version": 2
   },
   "file_extension": ".py",
   "mimetype": "text/x-python",
   "name": "python",
   "nbconvert_exporter": "python",
   "pygments_lexer": "ipython2",
   "version": "2.7.5"
  }
 },
 "nbformat": 4,
 "nbformat_minor": 2
}
